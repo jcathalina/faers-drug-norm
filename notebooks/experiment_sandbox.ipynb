{
 "cells": [
  {
   "cell_type": "code",
   "execution_count": 1,
   "id": "47598306",
   "metadata": {},
   "outputs": [],
   "source": [
    "import pandas as pd"
   ]
  },
  {
   "cell_type": "code",
   "execution_count": 2,
   "id": "0e9bf571",
   "metadata": {},
   "outputs": [],
   "source": [
    "df_noint = pd.read_csv(\"../results/exp_1_no_clean_no_int_10k.csv\")"
   ]
  },
  {
   "cell_type": "code",
   "execution_count": 3,
   "id": "1f8f883b",
   "metadata": {},
   "outputs": [],
   "source": [
    "df_yesint = pd.read_csv(\"../results/exp_2_no_clean_yes_int_10k.csv\")"
   ]
  },
  {
   "cell_type": "code",
   "execution_count": 5,
   "id": "fdc37cc8",
   "metadata": {},
   "outputs": [
    {
     "data": {
      "text/plain": [
       "632483"
      ]
     },
     "execution_count": 5,
     "metadata": {},
     "output_type": "execute_result"
    }
   ],
   "source": [
    "df_noint[\"score\"].sum()"
   ]
  },
  {
   "cell_type": "code",
   "execution_count": 6,
   "id": "9a1eab40",
   "metadata": {},
   "outputs": [
    {
     "data": {
      "text/plain": [
       "632483"
      ]
     },
     "execution_count": 6,
     "metadata": {},
     "output_type": "execute_result"
    }
   ],
   "source": [
    "df_yesint[\"score\"].sum()"
   ]
  },
  {
   "cell_type": "markdown",
   "id": "e99e2b1c",
   "metadata": {},
   "source": [
    "### As we see, for this small sample of 10K it did not make a difference to include the international dictionary. This makes sense as the international drugs are (1) not always captured by the EU drug list, which is the only one we have at the moment, and (2) this sample is likely too small to assume that a popular EU drug was even included in this test.\n",
    "### Currently, we are using fuzzy matching for the detection of EU drug list entries. However, this makes the process approximately 5x slower per iteration, which makes this intractable for the entire 500k+ entry data set of FAERS (It takes about 1 hour to do 10K for example on my machine). For this reason, we must either choose to do direct matching for international drugs or exclude it entirely."
   ]
  },
  {
   "cell_type": "code",
   "execution_count": 7,
   "id": "085eeb47",
   "metadata": {},
   "outputs": [],
   "source": [
    "df_full_noint = pd.read_csv(\"../results/exp_3_no_clean_no_int_fulldev.csv\")"
   ]
  },
  {
   "cell_type": "code",
   "execution_count": 10,
   "id": "0819782f",
   "metadata": {},
   "outputs": [
    {
     "data": {
      "text/plain": [
       "DNO    35307\n",
       "BUQ     9964\n",
       "DFQ     3884\n",
       "NIL      845\n",
       "Name: method, dtype: int64"
      ]
     },
     "execution_count": 10,
     "metadata": {},
     "output_type": "execute_result"
    }
   ],
   "source": [
    "df_full_noint[\"method\"].value_counts()"
   ]
  },
  {
   "cell_type": "code",
   "execution_count": 12,
   "id": "2813d440",
   "metadata": {},
   "outputs": [],
   "source": [
    "dev_df = pd.read_csv(\"../data/FAERS_DEV_SET.csv\")"
   ]
  },
  {
   "cell_type": "code",
   "execution_count": 14,
   "id": "e6968b3c",
   "metadata": {},
   "outputs": [
    {
     "data": {
      "text/plain": [
       "DRUG20Q1.txt    2151\n",
       "DRUG20Q3.txt    2150\n",
       "DRUG21Q1.txt    2124\n",
       "DRUG19Q4.txt    2064\n",
       "DRUG19Q2.txt    2035\n",
       "DRUG14Q1.txt    2023\n",
       "DRUG18Q3.txt    1955\n",
       "DRUG20Q4.txt    1926\n",
       "DRUG18Q4.txt    1821\n",
       "DRUG19Q1.txt    1800\n",
       "DRUG13Q1.txt    1787\n",
       "DRUG19Q3.txt    1743\n",
       "DRUG20Q2.txt    1739\n",
       "DRUG15Q1.txt    1463\n",
       "DRUG17Q1.txt    1435\n",
       "DRUG15Q3.txt    1414\n",
       "DRUG13Q4.txt    1389\n",
       "DRUG15Q2.txt    1366\n",
       "DRUG16Q2.txt    1355\n",
       "drug12q4.txt    1324\n",
       "DRUG16Q1.txt    1323\n",
       "DRUG16Q3.txt    1321\n",
       "DRUG14Q2.txt    1298\n",
       "DRUG14Q3.txt    1281\n",
       "DRUG17Q3.txt    1277\n",
       "DRUG13Q3.txt    1251\n",
       "DRUG17Q4.txt    1237\n",
       "DRUG16Q4.txt    1225\n",
       "DRUG13Q2.txt    1225\n",
       "DRUG14Q4.txt    1221\n",
       "DRUG17Q2.txt    1148\n",
       "DRUG15Q4.txt    1129\n",
       "Name: origin, dtype: int64"
      ]
     },
     "execution_count": 14,
     "metadata": {},
     "output_type": "execute_result"
    }
   ],
   "source": [
    "dev_df[\"origin\"].value_counts()"
   ]
  },
  {
   "cell_type": "code",
   "execution_count": null,
   "id": "4b8672f8",
   "metadata": {},
   "outputs": [],
   "source": []
  }
 ],
 "metadata": {
  "kernelspec": {
   "display_name": "Python 3",
   "language": "python",
   "name": "python3"
  },
  "language_info": {
   "codemirror_mode": {
    "name": "ipython",
    "version": 3
   },
   "file_extension": ".py",
   "mimetype": "text/x-python",
   "name": "python",
   "nbconvert_exporter": "python",
   "pygments_lexer": "ipython3",
   "version": "3.8.8"
  }
 },
 "nbformat": 4,
 "nbformat_minor": 5
}

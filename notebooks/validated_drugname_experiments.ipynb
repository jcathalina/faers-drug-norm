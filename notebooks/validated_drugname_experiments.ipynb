{
 "cells": [
  {
   "cell_type": "code",
   "execution_count": 1,
   "metadata": {},
   "outputs": [],
   "source": [
    "import pandas as pd\n",
    "import numpy as np"
   ]
  },
  {
   "cell_type": "code",
   "execution_count": 26,
   "metadata": {},
   "outputs": [],
   "source": [
    "cols_to_keep = ['primaryid', 'caseid', 'drug_seq',\n",
    "                'role_cod', 'drugname', 'route',\n",
    "                'origin', 'prod_ai', 'nda_num', 'val_vbm']\n",
    "\n",
    "dtypes = {'primaryid': 'str',\n",
    "          'caseid': 'str',\n",
    "          'drug_seq': 'int8',\n",
    "          'role_cod': 'str',\n",
    "          'drugname': 'str',\n",
    "          'route': 'str',\n",
    "          'nda_num': 'str',\n",
    "          'origin': 'str',\n",
    "          'prod_ai': 'str',\n",
    "          'val_vbm': 'int8'}\n",
    "\n",
    "df_pd: pd.DataFrame = pd.read_csv(\"../data/processed/drug_table.csv\",\n",
    "                                      index_col=False,\n",
    "                                      usecols=cols_to_keep,\n",
    "                                      dtype=dtypes,\n",
    "                                      low_memory=False)"
   ]
  },
  {
   "cell_type": "code",
   "execution_count": 69,
   "metadata": {},
   "outputs": [
    {
     "data": {
      "text/plain": [
       "40584418"
      ]
     },
     "execution_count": 69,
     "metadata": {},
     "output_type": "execute_result"
    }
   ],
   "source": [
    "len(df_pd)"
   ]
  },
  {
   "cell_type": "markdown",
   "metadata": {},
   "source": [
    "# VAL VBM Experiments\n",
    "check if all entries with  val_vbm = 1 (which means the trade name is validated) can actually map to the correct RxNorm drugname 100%. If this is the case, we can cut down significantly on our normalization experiment data size."
   ]
  },
  {
   "cell_type": "code",
   "execution_count": 28,
   "metadata": {},
   "outputs": [],
   "source": [
    "df_val: pd.DataFrame = df_pd[df_pd[\"val_vbm\"] == 1]  #  subset of only validated trade names"
   ]
  },
  {
   "cell_type": "code",
   "execution_count": 34,
   "metadata": {},
   "outputs": [],
   "source": [
    "unique_val_drugnames = df_val[\"drugname\"].unique()"
   ]
  },
  {
   "cell_type": "code",
   "execution_count": 37,
   "metadata": {},
   "outputs": [
    {
     "data": {
      "text/plain": [
       "array(['SUSTIVA', 'NEVIRAPINE', 'VIRACEPT', ...,\n",
       "       'ISOSORBIDE [ISOSORBIDE DINITRATE]', 'NEOMYCIN?POLY HC',\n",
       "       'TARO?TERCONAZOLE'], dtype=object)"
      ]
     },
     "execution_count": 37,
     "metadata": {},
     "output_type": "execute_result"
    }
   ],
   "source": [
    "unique_val_drugnames"
   ]
  },
  {
   "cell_type": "markdown",
   "metadata": {},
   "source": [
    "# Pre-processing of validated drug names:\n",
    "- 1) Create subset of validated drugname dataframe that only looks at drugname related info (drugname, product active ing, nda)\n",
    "- 2) Per row, count the frequency that these relevant values are missing\n",
    "- 3) Add this new derived column to original dataframe\n",
    "- 4) Sort by this new column, as to have the rows with the least missing info at the top\n",
    "- 5) Drop all duplicates except for the first, as this will be the entry containing the most info (and hopefully the highest quality)"
   ]
  },
  {
   "cell_type": "code",
   "execution_count": 54,
   "metadata": {},
   "outputs": [],
   "source": [
    "df_val_sub = df_val[[\"drugname\", \"prod_ai\", \"nda_num\"]]\n",
    "df_val_info_scores = df_val_sub.shape[1] - df_val_sub.count(axis=1)\n",
    "df_val[\"info_scores\"] = df_val_info_scores\n",
    "df_val = df_val.sort_values(by=[\"info_scores\"])\n",
    "df_val_unique_first = df_val.drop_duplicates(\"drugname\", keep=\"first\")"
   ]
  },
  {
   "cell_type": "code",
   "execution_count": 67,
   "metadata": {},
   "outputs": [
    {
     "data": {
      "text/plain": [
       "227679"
      ]
     },
     "execution_count": 67,
     "metadata": {},
     "output_type": "execute_result"
    }
   ],
   "source": [
    "len(df_val[\"drugname\"].unique())"
   ]
  },
  {
   "cell_type": "code",
   "execution_count": 64,
   "metadata": {},
   "outputs": [],
   "source": [
    "df_val_unique_first.to_csv(\"../data/processed/validated_drugname_list.csv\", index=False)"
   ]
  },
  {
   "cell_type": "code",
   "execution_count": 29,
   "metadata": {},
   "outputs": [],
   "source": [
    "import dask.dataframe as dd"
   ]
  },
  {
   "cell_type": "code",
   "execution_count": 33,
   "metadata": {},
   "outputs": [],
   "source": [
    "df = dd.read_csv(\"../data/processed/drug_table_clean.csv\", dtype=dtypes)"
   ]
  },
  {
   "cell_type": "code",
   "execution_count": 34,
   "metadata": {
    "scrolled": true
   },
   "outputs": [
    {
     "data": {
      "text/plain": [
       "primaryid           0\n",
       "caseid              0\n",
       "drug_seq            0\n",
       "role_cod            4\n",
       "drugname         1182\n",
       "route        13209398\n",
       "nda_num      26309522\n",
       "origin              0\n",
       "prod_ai       5833978\n",
       "dtype: int64"
      ]
     },
     "execution_count": 34,
     "metadata": {},
     "output_type": "execute_result"
    }
   ],
   "source": [
    "df.isna().sum().compute()"
   ]
  },
  {
   "cell_type": "code",
   "execution_count": 37,
   "metadata": {},
   "outputs": [
    {
     "data": {
      "text/html": [
       "<div>\n",
       "<style scoped>\n",
       "    .dataframe tbody tr th:only-of-type {\n",
       "        vertical-align: middle;\n",
       "    }\n",
       "\n",
       "    .dataframe tbody tr th {\n",
       "        vertical-align: top;\n",
       "    }\n",
       "\n",
       "    .dataframe thead th {\n",
       "        text-align: right;\n",
       "    }\n",
       "</style>\n",
       "<table border=\"1\" class=\"dataframe\">\n",
       "  <thead>\n",
       "    <tr style=\"text-align: right;\">\n",
       "      <th></th>\n",
       "      <th>primaryid</th>\n",
       "      <th>caseid</th>\n",
       "      <th>drug_seq</th>\n",
       "      <th>role_cod</th>\n",
       "      <th>drugname</th>\n",
       "      <th>route</th>\n",
       "      <th>nda_num</th>\n",
       "      <th>origin</th>\n",
       "      <th>prod_ai</th>\n",
       "    </tr>\n",
       "  </thead>\n",
       "  <tbody>\n",
       "    <tr>\n",
       "      <th>9903</th>\n",
       "      <td>73348573</td>\n",
       "      <td>7334857</td>\n",
       "      <td>2</td>\n",
       "      <td>C</td>\n",
       "      <td>NaN</td>\n",
       "      <td>NaN</td>\n",
       "      <td>NaN</td>\n",
       "      <td>drug12q4.txt</td>\n",
       "      <td>NaN</td>\n",
       "    </tr>\n",
       "    <tr>\n",
       "      <th>249443</th>\n",
       "      <td>87910472</td>\n",
       "      <td>8791047</td>\n",
       "      <td>6</td>\n",
       "      <td>C</td>\n",
       "      <td>NaN</td>\n",
       "      <td>NaN</td>\n",
       "      <td>NaN</td>\n",
       "      <td>drug12q4.txt</td>\n",
       "      <td>NaN</td>\n",
       "    </tr>\n",
       "    <tr>\n",
       "      <th>763797</th>\n",
       "      <td>93000331</td>\n",
       "      <td>9300033</td>\n",
       "      <td>9</td>\n",
       "      <td>SS</td>\n",
       "      <td>NaN</td>\n",
       "      <td>NaN</td>\n",
       "      <td>NaN</td>\n",
       "      <td>drug12q4.txt</td>\n",
       "      <td>NaN</td>\n",
       "    </tr>\n",
       "    <tr>\n",
       "      <th>356531</th>\n",
       "      <td>95095111</td>\n",
       "      <td>9509511</td>\n",
       "      <td>7</td>\n",
       "      <td>C</td>\n",
       "      <td>NaN</td>\n",
       "      <td>NaN</td>\n",
       "      <td>NaN</td>\n",
       "      <td>DRUG13Q1.txt</td>\n",
       "      <td>NaN</td>\n",
       "    </tr>\n",
       "    <tr>\n",
       "      <th>915126</th>\n",
       "      <td>96839872</td>\n",
       "      <td>9683987</td>\n",
       "      <td>3</td>\n",
       "      <td>C</td>\n",
       "      <td>NaN</td>\n",
       "      <td>NaN</td>\n",
       "      <td>NaN</td>\n",
       "      <td>DRUG13Q4.txt</td>\n",
       "      <td>NaN</td>\n",
       "    </tr>\n",
       "    <tr>\n",
       "      <th>...</th>\n",
       "      <td>...</td>\n",
       "      <td>...</td>\n",
       "      <td>...</td>\n",
       "      <td>...</td>\n",
       "      <td>...</td>\n",
       "      <td>...</td>\n",
       "      <td>...</td>\n",
       "      <td>...</td>\n",
       "      <td>...</td>\n",
       "    </tr>\n",
       "    <tr>\n",
       "      <th>453456</th>\n",
       "      <td>190769841</td>\n",
       "      <td>19076984</td>\n",
       "      <td>2</td>\n",
       "      <td>C</td>\n",
       "      <td>NaN</td>\n",
       "      <td>NaN</td>\n",
       "      <td>NaN</td>\n",
       "      <td>DRUG21Q1.txt</td>\n",
       "      <td>UNSPECIFIED INGREDIENT</td>\n",
       "    </tr>\n",
       "    <tr>\n",
       "      <th>456526</th>\n",
       "      <td>190778351</td>\n",
       "      <td>19077835</td>\n",
       "      <td>2</td>\n",
       "      <td>C</td>\n",
       "      <td>NaN</td>\n",
       "      <td>NaN</td>\n",
       "      <td>NaN</td>\n",
       "      <td>DRUG21Q1.txt</td>\n",
       "      <td>UNSPECIFIED INGREDIENT</td>\n",
       "    </tr>\n",
       "    <tr>\n",
       "      <th>456639</th>\n",
       "      <td>190778731</td>\n",
       "      <td>19077873</td>\n",
       "      <td>2</td>\n",
       "      <td>C</td>\n",
       "      <td>NaN</td>\n",
       "      <td>NaN</td>\n",
       "      <td>NaN</td>\n",
       "      <td>DRUG21Q1.txt</td>\n",
       "      <td>UNSPECIFIED INGREDIENT</td>\n",
       "    </tr>\n",
       "    <tr>\n",
       "      <th>456751</th>\n",
       "      <td>190779081</td>\n",
       "      <td>19077908</td>\n",
       "      <td>2</td>\n",
       "      <td>C</td>\n",
       "      <td>NaN</td>\n",
       "      <td>NaN</td>\n",
       "      <td>NaN</td>\n",
       "      <td>DRUG21Q1.txt</td>\n",
       "      <td>UNSPECIFIED INGREDIENT</td>\n",
       "    </tr>\n",
       "    <tr>\n",
       "      <th>456864</th>\n",
       "      <td>190779311</td>\n",
       "      <td>19077931</td>\n",
       "      <td>2</td>\n",
       "      <td>C</td>\n",
       "      <td>NaN</td>\n",
       "      <td>NaN</td>\n",
       "      <td>NaN</td>\n",
       "      <td>DRUG21Q1.txt</td>\n",
       "      <td>UNSPECIFIED INGREDIENT</td>\n",
       "    </tr>\n",
       "  </tbody>\n",
       "</table>\n",
       "<p>1182 rows × 9 columns</p>\n",
       "</div>"
      ],
      "text/plain": [
       "        primaryid    caseid drug_seq role_cod drugname route nda_num  \\\n",
       "9903     73348573   7334857        2        C      NaN   NaN     NaN   \n",
       "249443   87910472   8791047        6        C      NaN   NaN     NaN   \n",
       "763797   93000331   9300033        9       SS      NaN   NaN     NaN   \n",
       "356531   95095111   9509511        7        C      NaN   NaN     NaN   \n",
       "915126   96839872   9683987        3        C      NaN   NaN     NaN   \n",
       "...           ...       ...      ...      ...      ...   ...     ...   \n",
       "453456  190769841  19076984        2        C      NaN   NaN     NaN   \n",
       "456526  190778351  19077835        2        C      NaN   NaN     NaN   \n",
       "456639  190778731  19077873        2        C      NaN   NaN     NaN   \n",
       "456751  190779081  19077908        2        C      NaN   NaN     NaN   \n",
       "456864  190779311  19077931        2        C      NaN   NaN     NaN   \n",
       "\n",
       "              origin                 prod_ai  \n",
       "9903    drug12q4.txt                     NaN  \n",
       "249443  drug12q4.txt                     NaN  \n",
       "763797  drug12q4.txt                     NaN  \n",
       "356531  DRUG13Q1.txt                     NaN  \n",
       "915126  DRUG13Q4.txt                     NaN  \n",
       "...              ...                     ...  \n",
       "453456  DRUG21Q1.txt  UNSPECIFIED INGREDIENT  \n",
       "456526  DRUG21Q1.txt  UNSPECIFIED INGREDIENT  \n",
       "456639  DRUG21Q1.txt  UNSPECIFIED INGREDIENT  \n",
       "456751  DRUG21Q1.txt  UNSPECIFIED INGREDIENT  \n",
       "456864  DRUG21Q1.txt  UNSPECIFIED INGREDIENT  \n",
       "\n",
       "[1182 rows x 9 columns]"
      ]
     },
     "execution_count": 37,
     "metadata": {},
     "output_type": "execute_result"
    }
   ],
   "source": [
    "df[df[\"drugname\"].isna()].compute()"
   ]
  },
  {
   "cell_type": "code",
   "execution_count": 39,
   "metadata": {},
   "outputs": [
    {
     "data": {
      "text/plain": [
       "573151"
      ]
     },
     "execution_count": 39,
     "metadata": {},
     "output_type": "execute_result"
    }
   ],
   "source": [
    "len(df[\"drugname\"].unique().compute())"
   ]
  },
  {
   "cell_type": "code",
   "execution_count": 41,
   "metadata": {},
   "outputs": [
    {
     "data": {
      "text/plain": [
       "10711397"
      ]
     },
     "execution_count": 41,
     "metadata": {},
     "output_type": "execute_result"
    }
   ],
   "source": [
    "len(df[\"primaryid\"].unique().compute())"
   ]
  },
  {
   "cell_type": "markdown",
   "metadata": {},
   "source": [
    "# Drugname entry statistics"
   ]
  },
  {
   "cell_type": "code",
   "execution_count": 93,
   "metadata": {},
   "outputs": [],
   "source": [
    "val_drugnames = df_val[\"drugname\"].unique().astype('str')"
   ]
  },
  {
   "cell_type": "code",
   "execution_count": 94,
   "metadata": {},
   "outputs": [],
   "source": [
    "all_drugnames = df_pd[\"drugname\"].unique().astype('str')"
   ]
  },
  {
   "cell_type": "code",
   "execution_count": 138,
   "metadata": {},
   "outputs": [],
   "source": [
    "vbm_drugnames = df_pd[df_pd[\"val_vbm\"] == 2][\"drugname\"].unique().astype('str')"
   ]
  },
  {
   "cell_type": "code",
   "execution_count": 97,
   "metadata": {},
   "outputs": [],
   "source": [
    "all_drug_charlen = np.char.str_len(all_drugnames)"
   ]
  },
  {
   "cell_type": "code",
   "execution_count": 98,
   "metadata": {},
   "outputs": [],
   "source": [
    "val_drug_charlen = np.char.str_len(val_drugnames)"
   ]
  },
  {
   "cell_type": "code",
   "execution_count": 140,
   "metadata": {},
   "outputs": [],
   "source": [
    "vbm_drug_charlen = np.char.str_len(vbm_drugnames)"
   ]
  },
  {
   "cell_type": "code",
   "execution_count": 141,
   "metadata": {},
   "outputs": [],
   "source": [
    "unique, counts = np.unique(all_drug_charlen, return_counts=True)\n",
    "all_drug_dict = dict(zip(unique, counts))\n",
    "\n",
    "unique, counts = np.unique(val_drug_charlen, return_counts=True)\n",
    "val_drug_dict = dict(zip(unique, counts))\n",
    "\n",
    "unique, counts = np.unique(vbm_drug_charlen, return_counts=True)\n",
    "vbm_drug_dict = dict(zip(unique, counts))"
   ]
  },
  {
   "cell_type": "code",
   "execution_count": 142,
   "metadata": {},
   "outputs": [
    {
     "data": {
      "text/plain": [
       "259"
      ]
     },
     "execution_count": 142,
     "metadata": {},
     "output_type": "execute_result"
    }
   ],
   "source": [
    "len(vbm_drug_dict)"
   ]
  },
  {
   "cell_type": "code",
   "execution_count": 179,
   "metadata": {},
   "outputs": [
    {
     "data": {
      "image/png": "[encoded data removed]",
      "text/plain": [
       "<Figure size 432x288 with 1 Axes>"
      ]
     },
     "metadata": {
      "needs_background": "light"
     },
     "output_type": "display_data"
    }
   ],
   "source": [
    "val_values = list(val_drug_dict.values())\n",
    "all_values = list(all_drug_dict.values())\n",
    "vbm_values = list(vbm_drug_dict.values())\n",
    "\n",
    "validated_plot = plt.plot(val_drug_dict.keys(), val_values)\n",
    "verbatim_plot = plt.plot(vbm_drug_dict.keys(), vbm_values)\n",
    "plt.legend(labels=['Validated', 'Verbatim'])\n",
    "plt.yscale(\"log\")\n",
    "plt.show()"
   ]
  },
  {
   "cell_type": "code",
   "execution_count": 167,
   "metadata": {},
   "outputs": [],
   "source": [
    "from functools import wraps\n",
    "\n",
    "def getstats(arr:np.ndarray):\n",
    "    print(f\"Max: {arr.max()}\")\n",
    "    print(f\"Min: {arr.min()}\")\n",
    "    print(f\"Mean: {arr.mean()}\")\n",
    "    print(f\"Median: {np.median(arr)}\")\n",
    "    print(f\"Stddev: {np.std(arr)}\")\n"
   ]
  },
  {
   "cell_type": "code",
   "execution_count": 168,
   "metadata": {},
   "outputs": [
    {
     "name": "stdout",
     "output_type": "stream",
     "text": [
      "Max: 500\n",
      "Min: 1\n",
      "Mean: 21.99190316707978\n",
      "Median: 18.0\n",
      "Stddev: 15.760824697118773\n"
     ]
    }
   ],
   "source": [
    "getstats(vbm_drug_charlen)"
   ]
  },
  {
   "cell_type": "code",
   "execution_count": 169,
   "metadata": {},
   "outputs": [
    {
     "name": "stdout",
     "output_type": "stream",
     "text": [
      "Max: 304\n",
      "Min: 1\n",
      "Mean: 24.08138212131993\n",
      "Median: 20.0\n",
      "Stddev: 15.520199126779483\n"
     ]
    }
   ],
   "source": [
    "getstats(val_drug_charlen)"
   ]
  },
  {
   "cell_type": "code",
   "execution_count": 170,
   "metadata": {},
   "outputs": [
    {
     "name": "stdout",
     "output_type": "stream",
     "text": [
      "Max: 500\n",
      "Min: 1\n",
      "Mean: 22.94981427232963\n",
      "Median: 19.0\n",
      "Stddev: 15.808700704300334\n"
     ]
    }
   ],
   "source": [
    "getstats(all_drug_charlen)"
   ]
  },
  {
   "cell_type": "code",
   "execution_count": null,
   "metadata": {},
   "outputs": [],
   "source": []
  },
  {
   "cell_type": "code",
   "execution_count": null,
   "metadata": {},
   "outputs": [],
   "source": []
  }
 ],
 "metadata": {
  "kernelspec": {
   "display_name": "Python 3",
   "language": "python",
   "name": "python3"
  },
  "language_info": {
   "codemirror_mode": {
    "name": "ipython",
    "version": 3
   },
   "file_extension": ".py",
   "mimetype": "text/x-python",
   "name": "python",
   "nbconvert_exporter": "python",
   "pygments_lexer": "ipython3",
   "version": "3.8.8"
  }
 },
 "nbformat": 4,
 "nbformat_minor": 4
}

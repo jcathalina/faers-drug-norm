{
 "cells": [
  {
   "cell_type": "code",
   "execution_count": 32,
   "id": "a0e9b1c3",
   "metadata": {},
   "outputs": [],
   "source": [
    "import pandas as pd"
   ]
  },
  {
   "cell_type": "code",
   "execution_count": 33,
   "id": "5feb2759",
   "metadata": {},
   "outputs": [],
   "source": [
    "abbreviations: pd.DataFrame = pd.read_html(\"https://rxnav.nlm.nih.gov/Abbreviations.html\", encoding=\"utf-8\")[0]"
   ]
  },
  {
   "cell_type": "code",
   "execution_count": 34,
   "id": "42dea902",
   "metadata": {},
   "outputs": [],
   "source": [
    "abbrev_dict = { abb:exp for (abb,exp) in zip(abbreviations[\"Abbreviation\"], abbreviations[\"Name\"]) }"
   ]
  },
  {
   "cell_type": "code",
   "execution_count": 35,
   "id": "230acfbc",
   "metadata": {},
   "outputs": [],
   "source": [
    "with open(\"../data/dictionaries/abbreviations.json\", mode=\"w\", encoding=\"utf-8\") as f:\n",
    "    json.dump(abbrev_dict, f)"
   ]
  }
 ],
 "metadata": {
  "kernelspec": {
   "display_name": "Python 3",
   "language": "python",
   "name": "python3"
  },
  "language_info": {
   "codemirror_mode": {
    "name": "ipython",
    "version": 3
   },
   "file_extension": ".py",
   "mimetype": "text/x-python",
   "name": "python",
   "nbconvert_exporter": "python",
   "pygments_lexer": "ipython3",
   "version": "3.8.8"
  }
 },
 "nbformat": 4,
 "nbformat_minor": 5
}

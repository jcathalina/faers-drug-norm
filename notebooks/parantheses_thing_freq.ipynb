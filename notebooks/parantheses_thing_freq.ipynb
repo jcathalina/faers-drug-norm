{
 "cells": [
  {
   "cell_type": "code",
   "execution_count": 1,
   "id": "6263f4ee",
   "metadata": {},
   "outputs": [],
   "source": [
    "import pandas as pd\n",
    "import re\n",
    "import matplotlib.pyplot as plt\n",
    "\n",
    "df=  pd.read_csv(\"../results/exp_3_no_clean_no_int_fulldev.csv\")"
   ]
  },
  {
   "cell_type": "code",
   "execution_count": 3,
   "id": "07263063",
   "metadata": {},
   "outputs": [],
   "source": [
    "queries = df[\"query\"]"
   ]
  },
  {
   "cell_type": "code",
   "execution_count": 4,
   "id": "346be54b",
   "metadata": {},
   "outputs": [
    {
     "name": "stdout",
     "output_type": "stream",
     "text": [
      "7038\n"
     ]
    }
   ],
   "source": [
    "counter = 0\n",
    "for q in queries.dropna():\n",
    "    if re.search(pattern=r\"\\([^()]*\\)\", string=q):\n",
    "        counter += 1\n",
    "    \n",
    "print(counter)"
   ]
  },
  {
   "cell_type": "code",
   "execution_count": null,
   "id": "417bbd9c",
   "metadata": {},
   "outputs": [],
   "source": []
  }
 ],
 "metadata": {
  "kernelspec": {
   "display_name": "Python 3",
   "language": "python",
   "name": "python3"
  },
  "language_info": {
   "codemirror_mode": {
    "name": "ipython",
    "version": 3
   },
   "file_extension": ".py",
   "mimetype": "text/x-python",
   "name": "python",
   "nbconvert_exporter": "python",
   "pygments_lexer": "ipython3",
   "version": "3.8.8"
  }
 },
 "nbformat": 4,
 "nbformat_minor": 5
}

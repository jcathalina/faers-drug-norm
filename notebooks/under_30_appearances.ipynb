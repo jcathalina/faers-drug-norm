{
 "cells": [
  {
   "cell_type": "code",
   "execution_count": 1,
   "id": "b4f7dbbb",
   "metadata": {},
   "outputs": [],
   "source": [
    "import pandas as pd"
   ]
  },
  {
   "cell_type": "code",
   "execution_count": 2,
   "id": "60ad9baa",
   "metadata": {},
   "outputs": [],
   "source": [
    "df = pd.read_csv(\"../data/FAERS_2012Q4_2021Q1.csv\", low_memory=False)"
   ]
  },
  {
   "cell_type": "markdown",
   "id": "fe1fc363",
   "metadata": {},
   "source": [
    "# Validating claims by Veronin et al. (2020)"
   ]
  },
  {
   "cell_type": "code",
   "execution_count": 11,
   "id": "a357c8ea",
   "metadata": {},
   "outputs": [],
   "source": [
    "counts = df[\"drugname\"].value_counts()"
   ]
  },
  {
   "cell_type": "code",
   "execution_count": 32,
   "id": "149a4132",
   "metadata": {},
   "outputs": [],
   "source": [
    "appears_less_than_30 = counts.where(counts < 30).dropna()"
   ]
  },
  {
   "cell_type": "code",
   "execution_count": 31,
   "id": "5b5559c5",
   "metadata": {},
   "outputs": [],
   "source": [
    "appears_more_than_1000 = counts.where(counts >= 1000).dropna()"
   ]
  },
  {
   "cell_type": "code",
   "execution_count": 30,
   "id": "bcb41ab7",
   "metadata": {},
   "outputs": [],
   "source": [
    "non_spec = counts.filter(regex=\"(?i)painkiller|antibiotic|analgesic\")"
   ]
  },
  {
   "cell_type": "code",
   "execution_count": 33,
   "id": "c5056198",
   "metadata": {},
   "outputs": [
    {
     "data": {
      "text/plain": [
       "1499973.0"
      ]
     },
     "execution_count": 33,
     "metadata": {},
     "output_type": "execute_result"
    }
   ],
   "source": [
    "appears_less_than_30.sum()"
   ]
  },
  {
   "cell_type": "code",
   "execution_count": 34,
   "id": "f28cba17",
   "metadata": {},
   "outputs": [
    {
     "data": {
      "text/plain": [
       "34736530.0"
      ]
     },
     "execution_count": 34,
     "metadata": {},
     "output_type": "execute_result"
    }
   ],
   "source": [
    "appears_more_than_1000.sum()"
   ]
  },
  {
   "cell_type": "code",
   "execution_count": 36,
   "id": "062c0cce",
   "metadata": {},
   "outputs": [],
   "source": [
    "aers = pd.read_csv(\"../data/AERS_2004Q1_2012Q3.csv\", low_memory=False)\n",
    "faers = pd.read_csv(\"../data/FAERS_2012Q4_2021Q1.csv\", low_memory=False)"
   ]
  },
  {
   "cell_type": "code",
   "execution_count": 59,
   "id": "48fd1d74",
   "metadata": {},
   "outputs": [],
   "source": [
    "incl_years = [\"drug12q4.txt\", \"DRUG13Q1.txt\", \"DRUG13Q2.txt\", \"DRUG13Q3.txt\", \"DRUG13Q4.txt\", \"DRUG14Q1.txt\", \"DRUG14Q2.txt\",\n",
    " \"DRUG14Q3.txt\", \"DRUG14Q4.txt\", \"DRUG15Q1.txt\", \"DRUG15Q2.txt\", \"DRUG15Q3.txt\", \"DRUG15Q4.txt\", \"DRUG16Q1.txt\",\n",
    " \"DRUG16Q2.txt\", \"DRUG16Q3.txt\"]\n",
    "rest = faers[faers['origin'].isin(incl_years)]"
   ]
  },
  {
   "cell_type": "code",
   "execution_count": 50,
   "id": "8cf2ae7d",
   "metadata": {},
   "outputs": [],
   "source": [
    "rest = rest[\"drugname\"]"
   ]
  },
  {
   "cell_type": "code",
   "execution_count": 51,
   "id": "258d78c0",
   "metadata": {},
   "outputs": [],
   "source": [
    "aers = aers[\"DRUGNAME\"]"
   ]
  },
  {
   "cell_type": "code",
   "execution_count": 54,
   "id": "97fba398",
   "metadata": {},
   "outputs": [],
   "source": [
    "veronin_set = aers.to_list() + rest.to_list()"
   ]
  },
  {
   "cell_type": "code",
   "execution_count": 55,
   "id": "fe4f3e41",
   "metadata": {},
   "outputs": [
    {
     "data": {
      "text/plain": [
       "30297218"
      ]
     },
     "execution_count": 55,
     "metadata": {},
     "output_type": "execute_result"
    }
   ],
   "source": [
    "len(veronin_set)  # 30297218: This does not match the mentioned 32,736,657 ?"
   ]
  },
  {
   "cell_type": "code",
   "execution_count": 64,
   "id": "dba37d01",
   "metadata": {},
   "outputs": [],
   "source": [
    "veronin_series = pd.Series(veronin_set).value_counts()"
   ]
  },
  {
   "cell_type": "markdown",
   "id": "b752183a",
   "metadata": {},
   "source": [
    "### We were not able to replicate the exact numbers and names seen in Veronin et al. The total number of drugnames registered from 2004Q1 to 2016Q3 is mentioned to be 32.7m, however, we find 30.3m. I am not entirely certain why this discrepancy is present. Furthermore, they report that aspirin is the most mentioned drugname, with humira being second. In our own results, the reverse is true"
   ]
  },
  {
   "cell_type": "code",
   "execution_count": 74,
   "id": "bafe17c1",
   "metadata": {},
   "outputs": [
    {
     "data": {
      "text/plain": [
       "474180"
      ]
     },
     "execution_count": 74,
     "metadata": {},
     "output_type": "execute_result"
    }
   ],
   "source": [
    "veronin_series.filter(regex=\"(?i)humira\").sum()"
   ]
  },
  {
   "cell_type": "code",
   "execution_count": 75,
   "id": "7e4d9959",
   "metadata": {},
   "outputs": [
    {
     "data": {
      "text/plain": [
       "366498"
      ]
     },
     "execution_count": 75,
     "metadata": {},
     "output_type": "execute_result"
    }
   ],
   "source": [
    "veronin_series.filter(regex=\"(?i)aspirin\").sum()"
   ]
  },
  {
   "cell_type": "code",
   "execution_count": null,
   "id": "80c57c60",
   "metadata": {},
   "outputs": [],
   "source": []
  }
 ],
 "metadata": {
  "kernelspec": {
   "display_name": "Python 3",
   "language": "python",
   "name": "python3"
  },
  "language_info": {
   "codemirror_mode": {
    "name": "ipython",
    "version": 3
   },
   "file_extension": ".py",
   "mimetype": "text/x-python",
   "name": "python",
   "nbconvert_exporter": "python",
   "pygments_lexer": "ipython3",
   "version": "3.8.8"
  }
 },
 "nbformat": 4,
 "nbformat_minor": 5
}

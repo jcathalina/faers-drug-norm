{
 "cells": [
  {
   "cell_type": "code",
   "execution_count": 1,
   "id": "8afac39b",
   "metadata": {},
   "outputs": [],
   "source": [
    "import pandas as pd"
   ]
  },
  {
   "cell_type": "code",
   "execution_count": 2,
   "id": "26456684",
   "metadata": {},
   "outputs": [],
   "source": [
    "df = pd.read_csv(\"../data/dictionaries/eu_drug_list.csv\")\n",
    "df = df.drop(columns=[\"Unnamed: 5\"])"
   ]
  },
  {
   "cell_type": "code",
   "execution_count": 17,
   "id": "5168ade3",
   "metadata": {},
   "outputs": [
    {
     "name": "stdout",
     "output_type": "stream",
     "text": [
      "Total entries: 11493\n",
      "Null brand names: 2040\n",
      "Null active ingredients: 0\n",
      "Null EU number: 8020\n"
     ]
    }
   ],
   "source": [
    "total_entries = len(df)\n",
    "empty_brand_names = df[\"Brand name\"].isna().sum()\n",
    "empty_active_ing = df[\"Active substance\"].isna().sum()\n",
    "empty_eu_num = df[\"EU Number\"].isna().sum()\n",
    "\n",
    "print(f\"Total entries: {total_entries}\")\n",
    "print(f\"Null brand names: {empty_brand_names}\")\n",
    "print(f\"Null active ingredients: {empty_active_ing}\")\n",
    "print(f\"Null EU number: {empty_eu_num}\")"
   ]
  },
  {
   "cell_type": "code",
   "execution_count": 3,
   "id": "b29e520d",
   "metadata": {},
   "outputs": [],
   "source": [
    "df = df.dropna(subset=[\"Brand name\"])"
   ]
  },
  {
   "cell_type": "code",
   "execution_count": 30,
   "id": "109c1b45",
   "metadata": {},
   "outputs": [],
   "source": [
    "col1 = df[\"Brand name\"]\n",
    "col2 = df[\"Active substance\"]\n",
    "\n",
    "clean_df = col1.to_frame().join(col2)\n",
    "clean_df = clean_df.reset_index(drop=True)"
   ]
  },
  {
   "cell_type": "code",
   "execution_count": 31,
   "id": "0f3bc853",
   "metadata": {},
   "outputs": [],
   "source": [
    "clean_df.columns = [\"drugname\", \"prod_ai\"]"
   ]
  },
  {
   "cell_type": "code",
   "execution_count": 33,
   "id": "3e28634f",
   "metadata": {},
   "outputs": [],
   "source": [
    "clean_df.to_csv(\"../data/dictionaries/processed/processed_eu_drug_dict.csv\", index=False)"
   ]
  },
  {
   "cell_type": "code",
   "execution_count": 15,
   "id": "1ff3cd73",
   "metadata": {},
   "outputs": [],
   "source": [
    "brands = df[\"Brand name\"]\n",
    "brands = brands.sort_values(ascending=True)"
   ]
  },
  {
   "cell_type": "code",
   "execution_count": 16,
   "id": "0c0e5fa3",
   "metadata": {},
   "outputs": [],
   "source": [
    "brands = pd.DataFrame(brands.unique())"
   ]
  },
  {
   "cell_type": "code",
   "execution_count": 17,
   "id": "434a97ad",
   "metadata": {},
   "outputs": [],
   "source": [
    "brands.to_csv(\"../data/dictionaries/eu_drug_target_list.csv\", index=False, header=None)"
   ]
  },
  {
   "cell_type": "code",
   "execution_count": null,
   "id": "5ded3107",
   "metadata": {},
   "outputs": [],
   "source": []
  }
 ],
 "metadata": {
  "kernelspec": {
   "display_name": "Python 3",
   "language": "python",
   "name": "python3"
  },
  "language_info": {
   "codemirror_mode": {
    "name": "ipython",
    "version": 3
   },
   "file_extension": ".py",
   "mimetype": "text/x-python",
   "name": "python",
   "nbconvert_exporter": "python",
   "pygments_lexer": "ipython3",
   "version": "3.8.8"
  }
 },
 "nbformat": 4,
 "nbformat_minor": 5
}

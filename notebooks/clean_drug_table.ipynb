{
 "cells": [
  {
   "cell_type": "code",
   "execution_count": 24,
   "metadata": {},
   "outputs": [],
   "source": [
    "import pandas as pd\n",
    "import numpy as np"
   ]
  },
  {
   "cell_type": "code",
   "execution_count": 25,
   "metadata": {},
   "outputs": [],
   "source": [
    "cols_to_keep = ['primaryid', 'caseid', 'drug_seq',\n",
    "                'role_cod', 'drugname', 'route',\n",
    "                'origin', 'prod_ai', 'nda_num', 'val_vbm']\n",
    "\n",
    "dtypes = {'primaryid': 'str',\n",
    "          'caseid': 'str',\n",
    "          'drug_seq': 'str',\n",
    "          'role_cod': 'str',\n",
    "          'drugname': 'str',\n",
    "          'route': 'str',\n",
    "          'nda_num': 'str',\n",
    "          'origin': 'str',\n",
    "          'prod_ai': 'str',\n",
    "          'val_vbm': 'str'}\n",
    "\n",
    "df_pd: pd.DataFrame = pd.read_csv(\"../data/processed/drug_table.csv\",\n",
    "                                      index_col=False,\n",
    "                                      usecols=cols_to_keep,\n",
    "                                      dtype=dtypes,\n",
    "                                      low_memory=False)"
   ]
  },
  {
   "cell_type": "code",
   "execution_count": 26,
   "metadata": {},
   "outputs": [
    {
     "data": {
      "text/html": [
       "<div>\n",
       "<style scoped>\n",
       "    .dataframe tbody tr th:only-of-type {\n",
       "        vertical-align: middle;\n",
       "    }\n",
       "\n",
       "    .dataframe tbody tr th {\n",
       "        vertical-align: top;\n",
       "    }\n",
       "\n",
       "    .dataframe thead th {\n",
       "        text-align: right;\n",
       "    }\n",
       "</style>\n",
       "<table border=\"1\" class=\"dataframe\">\n",
       "  <thead>\n",
       "    <tr style=\"text-align: right;\">\n",
       "      <th></th>\n",
       "      <th>primaryid</th>\n",
       "      <th>caseid</th>\n",
       "      <th>drug_seq</th>\n",
       "      <th>role_cod</th>\n",
       "      <th>drugname</th>\n",
       "      <th>route</th>\n",
       "      <th>nda_num</th>\n",
       "      <th>origin</th>\n",
       "      <th>prod_ai</th>\n",
       "    </tr>\n",
       "  </thead>\n",
       "  <tbody>\n",
       "    <tr>\n",
       "      <th>0</th>\n",
       "      <td>34483284</td>\n",
       "      <td>3448328</td>\n",
       "      <td>1</td>\n",
       "      <td>PS</td>\n",
       "      <td>SUSTIVA</td>\n",
       "      <td>TRANSPLACENTAL</td>\n",
       "      <td>020972</td>\n",
       "      <td>drug12q4.txt</td>\n",
       "      <td>NaN</td>\n",
       "    </tr>\n",
       "    <tr>\n",
       "      <th>1</th>\n",
       "      <td>34483284</td>\n",
       "      <td>3448328</td>\n",
       "      <td>2</td>\n",
       "      <td>SS</td>\n",
       "      <td>NEVIRAPINE</td>\n",
       "      <td>TRANSPLACENTAL</td>\n",
       "      <td>NaN</td>\n",
       "      <td>drug12q4.txt</td>\n",
       "      <td>NaN</td>\n",
       "    </tr>\n",
       "    <tr>\n",
       "      <th>2</th>\n",
       "      <td>34483284</td>\n",
       "      <td>3448328</td>\n",
       "      <td>3</td>\n",
       "      <td>SS</td>\n",
       "      <td>VIRACEPT</td>\n",
       "      <td>TRANSPLACENTAL</td>\n",
       "      <td>NaN</td>\n",
       "      <td>drug12q4.txt</td>\n",
       "      <td>NaN</td>\n",
       "    </tr>\n",
       "    <tr>\n",
       "      <th>3</th>\n",
       "      <td>34483284</td>\n",
       "      <td>3448328</td>\n",
       "      <td>4</td>\n",
       "      <td>SS</td>\n",
       "      <td>COMBIVIR</td>\n",
       "      <td>TRANSPLACENTAL</td>\n",
       "      <td>NaN</td>\n",
       "      <td>drug12q4.txt</td>\n",
       "      <td>NaN</td>\n",
       "    </tr>\n",
       "    <tr>\n",
       "      <th>4</th>\n",
       "      <td>34483284</td>\n",
       "      <td>3448328</td>\n",
       "      <td>5</td>\n",
       "      <td>SS</td>\n",
       "      <td>RETROVIR</td>\n",
       "      <td>TRANSPLACENTAL</td>\n",
       "      <td>NaN</td>\n",
       "      <td>drug12q4.txt</td>\n",
       "      <td>NaN</td>\n",
       "    </tr>\n",
       "  </tbody>\n",
       "</table>\n",
       "</div>"
      ],
      "text/plain": [
       "  primaryid   caseid drug_seq role_cod    drugname           route nda_num  \\\n",
       "0  34483284  3448328        1       PS     SUSTIVA  TRANSPLACENTAL  020972   \n",
       "1  34483284  3448328        2       SS  NEVIRAPINE  TRANSPLACENTAL     NaN   \n",
       "2  34483284  3448328        3       SS    VIRACEPT  TRANSPLACENTAL     NaN   \n",
       "3  34483284  3448328        4       SS    COMBIVIR  TRANSPLACENTAL     NaN   \n",
       "4  34483284  3448328        5       SS    RETROVIR  TRANSPLACENTAL     NaN   \n",
       "\n",
       "         origin prod_ai  \n",
       "0  drug12q4.txt     NaN  \n",
       "1  drug12q4.txt     NaN  \n",
       "2  drug12q4.txt     NaN  \n",
       "3  drug12q4.txt     NaN  \n",
       "4  drug12q4.txt     NaN  "
      ]
     },
     "execution_count": 26,
     "metadata": {},
     "output_type": "execute_result"
    }
   ],
   "source": [
    "df_pd.head()"
   ]
  },
  {
   "cell_type": "code",
   "execution_count": 27,
   "metadata": {},
   "outputs": [],
   "source": [
    "df_pd.to_csv(\"../data/processed/drug_table_clean.csv\", index=False)"
   ]
  },
  {
   "cell_type": "code",
   "execution_count": 28,
   "metadata": {},
   "outputs": [],
   "source": [
    "del df_pd"
   ]
  },
  {
   "cell_type": "code",
   "execution_count": 29,
   "metadata": {},
   "outputs": [],
   "source": [
    "import dask.dataframe as dd"
   ]
  },
  {
   "cell_type": "code",
   "execution_count": 33,
   "metadata": {},
   "outputs": [],
   "source": [
    "df = dd.read_csv(\"../data/processed/drug_table_clean.csv\", dtype=dtypes)"
   ]
  },
  {
   "cell_type": "code",
   "execution_count": 34,
   "metadata": {},
   "outputs": [
    {
     "data": {
      "text/plain": [
       "primaryid           0\n",
       "caseid              0\n",
       "drug_seq            0\n",
       "role_cod            4\n",
       "drugname         1182\n",
       "route        13209398\n",
       "nda_num      26309522\n",
       "origin              0\n",
       "prod_ai       5833978\n",
       "dtype: int64"
      ]
     },
     "execution_count": 34,
     "metadata": {},
     "output_type": "execute_result"
    }
   ],
   "source": [
    "df.isna().sum().compute()"
   ]
  },
  {
   "cell_type": "code",
   "execution_count": 37,
   "metadata": {},
   "outputs": [
    {
     "data": {
      "text/html": [
       "<div>\n",
       "<style scoped>\n",
       "    .dataframe tbody tr th:only-of-type {\n",
       "        vertical-align: middle;\n",
       "    }\n",
       "\n",
       "    .dataframe tbody tr th {\n",
       "        vertical-align: top;\n",
       "    }\n",
       "\n",
       "    .dataframe thead th {\n",
       "        text-align: right;\n",
       "    }\n",
       "</style>\n",
       "<table border=\"1\" class=\"dataframe\">\n",
       "  <thead>\n",
       "    <tr style=\"text-align: right;\">\n",
       "      <th></th>\n",
       "      <th>primaryid</th>\n",
       "      <th>caseid</th>\n",
       "      <th>drug_seq</th>\n",
       "      <th>role_cod</th>\n",
       "      <th>drugname</th>\n",
       "      <th>route</th>\n",
       "      <th>nda_num</th>\n",
       "      <th>origin</th>\n",
       "      <th>prod_ai</th>\n",
       "    </tr>\n",
       "  </thead>\n",
       "  <tbody>\n",
       "    <tr>\n",
       "      <th>9903</th>\n",
       "      <td>73348573</td>\n",
       "      <td>7334857</td>\n",
       "      <td>2</td>\n",
       "      <td>C</td>\n",
       "      <td>NaN</td>\n",
       "      <td>NaN</td>\n",
       "      <td>NaN</td>\n",
       "      <td>drug12q4.txt</td>\n",
       "      <td>NaN</td>\n",
       "    </tr>\n",
       "    <tr>\n",
       "      <th>249443</th>\n",
       "      <td>87910472</td>\n",
       "      <td>8791047</td>\n",
       "      <td>6</td>\n",
       "      <td>C</td>\n",
       "      <td>NaN</td>\n",
       "      <td>NaN</td>\n",
       "      <td>NaN</td>\n",
       "      <td>drug12q4.txt</td>\n",
       "      <td>NaN</td>\n",
       "    </tr>\n",
       "    <tr>\n",
       "      <th>763797</th>\n",
       "      <td>93000331</td>\n",
       "      <td>9300033</td>\n",
       "      <td>9</td>\n",
       "      <td>SS</td>\n",
       "      <td>NaN</td>\n",
       "      <td>NaN</td>\n",
       "      <td>NaN</td>\n",
       "      <td>drug12q4.txt</td>\n",
       "      <td>NaN</td>\n",
       "    </tr>\n",
       "    <tr>\n",
       "      <th>356531</th>\n",
       "      <td>95095111</td>\n",
       "      <td>9509511</td>\n",
       "      <td>7</td>\n",
       "      <td>C</td>\n",
       "      <td>NaN</td>\n",
       "      <td>NaN</td>\n",
       "      <td>NaN</td>\n",
       "      <td>DRUG13Q1.txt</td>\n",
       "      <td>NaN</td>\n",
       "    </tr>\n",
       "    <tr>\n",
       "      <th>915126</th>\n",
       "      <td>96839872</td>\n",
       "      <td>9683987</td>\n",
       "      <td>3</td>\n",
       "      <td>C</td>\n",
       "      <td>NaN</td>\n",
       "      <td>NaN</td>\n",
       "      <td>NaN</td>\n",
       "      <td>DRUG13Q4.txt</td>\n",
       "      <td>NaN</td>\n",
       "    </tr>\n",
       "    <tr>\n",
       "      <th>...</th>\n",
       "      <td>...</td>\n",
       "      <td>...</td>\n",
       "      <td>...</td>\n",
       "      <td>...</td>\n",
       "      <td>...</td>\n",
       "      <td>...</td>\n",
       "      <td>...</td>\n",
       "      <td>...</td>\n",
       "      <td>...</td>\n",
       "    </tr>\n",
       "    <tr>\n",
       "      <th>453456</th>\n",
       "      <td>190769841</td>\n",
       "      <td>19076984</td>\n",
       "      <td>2</td>\n",
       "      <td>C</td>\n",
       "      <td>NaN</td>\n",
       "      <td>NaN</td>\n",
       "      <td>NaN</td>\n",
       "      <td>DRUG21Q1.txt</td>\n",
       "      <td>UNSPECIFIED INGREDIENT</td>\n",
       "    </tr>\n",
       "    <tr>\n",
       "      <th>456526</th>\n",
       "      <td>190778351</td>\n",
       "      <td>19077835</td>\n",
       "      <td>2</td>\n",
       "      <td>C</td>\n",
       "      <td>NaN</td>\n",
       "      <td>NaN</td>\n",
       "      <td>NaN</td>\n",
       "      <td>DRUG21Q1.txt</td>\n",
       "      <td>UNSPECIFIED INGREDIENT</td>\n",
       "    </tr>\n",
       "    <tr>\n",
       "      <th>456639</th>\n",
       "      <td>190778731</td>\n",
       "      <td>19077873</td>\n",
       "      <td>2</td>\n",
       "      <td>C</td>\n",
       "      <td>NaN</td>\n",
       "      <td>NaN</td>\n",
       "      <td>NaN</td>\n",
       "      <td>DRUG21Q1.txt</td>\n",
       "      <td>UNSPECIFIED INGREDIENT</td>\n",
       "    </tr>\n",
       "    <tr>\n",
       "      <th>456751</th>\n",
       "      <td>190779081</td>\n",
       "      <td>19077908</td>\n",
       "      <td>2</td>\n",
       "      <td>C</td>\n",
       "      <td>NaN</td>\n",
       "      <td>NaN</td>\n",
       "      <td>NaN</td>\n",
       "      <td>DRUG21Q1.txt</td>\n",
       "      <td>UNSPECIFIED INGREDIENT</td>\n",
       "    </tr>\n",
       "    <tr>\n",
       "      <th>456864</th>\n",
       "      <td>190779311</td>\n",
       "      <td>19077931</td>\n",
       "      <td>2</td>\n",
       "      <td>C</td>\n",
       "      <td>NaN</td>\n",
       "      <td>NaN</td>\n",
       "      <td>NaN</td>\n",
       "      <td>DRUG21Q1.txt</td>\n",
       "      <td>UNSPECIFIED INGREDIENT</td>\n",
       "    </tr>\n",
       "  </tbody>\n",
       "</table>\n",
       "<p>1182 rows × 9 columns</p>\n",
       "</div>"
      ],
      "text/plain": [
       "        primaryid    caseid drug_seq role_cod drugname route nda_num  \\\n",
       "9903     73348573   7334857        2        C      NaN   NaN     NaN   \n",
       "249443   87910472   8791047        6        C      NaN   NaN     NaN   \n",
       "763797   93000331   9300033        9       SS      NaN   NaN     NaN   \n",
       "356531   95095111   9509511        7        C      NaN   NaN     NaN   \n",
       "915126   96839872   9683987        3        C      NaN   NaN     NaN   \n",
       "...           ...       ...      ...      ...      ...   ...     ...   \n",
       "453456  190769841  19076984        2        C      NaN   NaN     NaN   \n",
       "456526  190778351  19077835        2        C      NaN   NaN     NaN   \n",
       "456639  190778731  19077873        2        C      NaN   NaN     NaN   \n",
       "456751  190779081  19077908        2        C      NaN   NaN     NaN   \n",
       "456864  190779311  19077931        2        C      NaN   NaN     NaN   \n",
       "\n",
       "              origin                 prod_ai  \n",
       "9903    drug12q4.txt                     NaN  \n",
       "249443  drug12q4.txt                     NaN  \n",
       "763797  drug12q4.txt                     NaN  \n",
       "356531  DRUG13Q1.txt                     NaN  \n",
       "915126  DRUG13Q4.txt                     NaN  \n",
       "...              ...                     ...  \n",
       "453456  DRUG21Q1.txt  UNSPECIFIED INGREDIENT  \n",
       "456526  DRUG21Q1.txt  UNSPECIFIED INGREDIENT  \n",
       "456639  DRUG21Q1.txt  UNSPECIFIED INGREDIENT  \n",
       "456751  DRUG21Q1.txt  UNSPECIFIED INGREDIENT  \n",
       "456864  DRUG21Q1.txt  UNSPECIFIED INGREDIENT  \n",
       "\n",
       "[1182 rows x 9 columns]"
      ]
     },
     "execution_count": 37,
     "metadata": {},
     "output_type": "execute_result"
    }
   ],
   "source": [
    "df[df[\"drugname\"].isna()].compute()"
   ]
  },
  {
   "cell_type": "code",
   "execution_count": 39,
   "metadata": {},
   "outputs": [
    {
     "data": {
      "text/plain": [
       "573151"
      ]
     },
     "execution_count": 39,
     "metadata": {},
     "output_type": "execute_result"
    }
   ],
   "source": [
    "len(df[\"drugname\"].unique().compute())"
   ]
  },
  {
   "cell_type": "code",
   "execution_count": 41,
   "metadata": {},
   "outputs": [
    {
     "data": {
      "text/plain": [
       "10711397"
      ]
     },
     "execution_count": 41,
     "metadata": {},
     "output_type": "execute_result"
    }
   ],
   "source": [
    "len(df[\"primaryid\"].unique().compute())"
   ]
  },
  {
   "cell_type": "code",
   "execution_count": 42,
   "metadata": {},
   "outputs": [],
   "source": [
    "df_pd: pd.DataFrame = pd.read_csv(\"../data/processed/drug_table.csv\",\n",
    "                                      index_col=False,\n",
    "                                      usecols=[\"val_vbm\"],\n",
    "                                      dtype=dtypes,\n",
    "                                      low_memory=False)"
   ]
  },
  {
   "cell_type": "code",
   "execution_count": 43,
   "metadata": {},
   "outputs": [
    {
     "data": {
      "text/plain": [
       "val_vbm    0\n",
       "dtype: int64"
      ]
     },
     "execution_count": 43,
     "metadata": {},
     "output_type": "execute_result"
    }
   ],
   "source": [
    "df_pd.isna().sum()"
   ]
  },
  {
   "cell_type": "code",
   "execution_count": 45,
   "metadata": {},
   "outputs": [],
   "source": [
    "verbatim_idx = df_pd[df_pd[\"val_vbm\"] == 1].index"
   ]
  },
  {
   "cell_type": "code",
   "execution_count": null,
   "metadata": {},
   "outputs": [],
   "source": []
  }
 ],
 "metadata": {
  "kernelspec": {
   "display_name": "Python 3",
   "language": "python",
   "name": "python3"
  },
  "language_info": {
   "codemirror_mode": {
    "name": "ipython",
    "version": 3
   },
   "file_extension": ".py",
   "mimetype": "text/x-python",
   "name": "python",
   "nbconvert_exporter": "python",
   "pygments_lexer": "ipython3",
   "version": "3.8.8"
  }
 },
 "nbformat": 4,
 "nbformat_minor": 4
}
